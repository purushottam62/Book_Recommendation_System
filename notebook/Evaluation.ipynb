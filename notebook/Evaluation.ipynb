{
 "cells": [
  {
   "cell_type": "code",
   "execution_count": 1,
   "id": "09ed73eb",
   "metadata": {
    "vscode": {
     "languageId": "plaintext"
    }
   },
   "outputs": [
    {
     "name": "stdout",
     "output_type": "stream",
     "text": [
      "/home/atulpandey/Projects/venv/bin/python\n"
     ]
    }
   ],
   "source": [
    "!which python"
   ]
  },
  {
   "cell_type": "code",
   "execution_count": 49,
   "id": "e86492e0",
   "metadata": {
    "vscode": {
     "languageId": "plaintext"
    }
   },
   "outputs": [
    {
     "name": "stdout",
     "output_type": "stream",
     "text": [
      "Using device: cpu\n"
     ]
    }
   ],
   "source": [
    "import pandas as pd\n",
    "import torch\n",
    "from torch.utils.data import DataLoader, Dataset, random_split\n",
    "import torch.nn as nn\n",
    "import torch.nn.functional as F\n",
    "from sklearn.metrics import mean_squared_error, mean_absolute_error\n",
    "from math import sqrt\n",
    "import os\n",
    "import random\n",
    "from importlib import import_module\n",
    "from sklearn.model_selection import train_test_split\n",
    "import importlib.util\n",
    "import torch\n",
    "import numpy as np\n",
    "\n",
    "device = torch.device(\"cuda\" if torch.cuda.is_available() else \"cpu\")\n",
    "print(\"Using device:\", device)\n"
   ]
  },
  {
   "cell_type": "code",
   "execution_count": 50,
   "id": "ba81c315",
   "metadata": {
    "vscode": {
     "languageId": "plaintext"
    }
   },
   "outputs": [],
   "source": [
    "DATA_PATH = \"../clean_data\"\n",
    "MODEL_PATH = \"../model/stamp.pt\"\n",
    "MODEL_SCRIPT = \"../model/stamp_model.py\"\n",
    "TEST_SPLIT = 0.8\n",
    "BATCH_SIZE = 64\n",
    "SEED = 42\n",
    "torch.manual_seed(SEED)\n",
    "random.seed(SEED)\n",
    "\n",
    "TOP_K = [5, 20]\n"
   ]
  },
  {
   "cell_type": "code",
   "execution_count": 51,
   "id": "384326ff",
   "metadata": {
    "vscode": {
     "languageId": "plaintext"
    }
   },
   "outputs": [],
   "source": [
    "ratings = pd.read_csv(os.path.join(DATA_PATH, \"ratings.csv\"))\n",
    "books = pd.read_csv(os.path.join(DATA_PATH, \"books.csv\"))\n",
    "users = pd.read_csv(os.path.join(DATA_PATH, \"users.csv\"))"
   ]
  },
  {
   "cell_type": "code",
   "execution_count": 52,
   "id": "2bd74ffc",
   "metadata": {
    "vscode": {
     "languageId": "plaintext"
    }
   },
   "outputs": [
    {
     "name": "stdout",
     "output_type": "stream",
     "text": [
      "Data loaded successfully!\n",
      "Ratings shape: (269616, 3)\n",
      "Books shape: (271353, 8)\n",
      "Users shape: (168096, 3)\n"
     ]
    }
   ],
   "source": [
    "print(\"Data loaded successfully!\")\n",
    "print(f\"Ratings shape: {ratings.shape}\")\n",
    "print(f\"Books shape: {books.shape}\")\n",
    "print(f\"Users shape: {users.shape}\")"
   ]
  },
  {
   "cell_type": "code",
   "execution_count": 53,
   "id": "6e911bda",
   "metadata": {
    "vscode": {
     "languageId": "plaintext"
    }
   },
   "outputs": [
    {
     "name": "stdout",
     "output_type": "stream",
     "text": [
      "Using 215693 samples for evaluation\n"
     ]
    }
   ],
   "source": [
    "\n",
    "ratings = ratings.sample(\n",
    "    frac=1, random_state=SEED).reset_index(drop=True)\n",
    "split_idx = int(len(ratings) * (1 - TEST_SPLIT))\n",
    "test_df = ratings.iloc[split_idx:].reset_index(drop=True)\n",
    "\n",
    "print(f\"Using {len(test_df)} samples for evaluation\")"
   ]
  },
  {
   "cell_type": "code",
   "execution_count": 54,
   "id": "2df98d6f",
   "metadata": {
    "vscode": {
     "languageId": "plaintext"
    }
   },
   "outputs": [
    {
     "name": "stdout",
     "output_type": "stream",
     "text": [
      "Train size: 53923, Test size: 215693\n"
     ]
    }
   ],
   "source": [
    "train_df, test_df = train_test_split(ratings, test_size=TEST_SPLIT, random_state=SEED)\n",
    "print(f\"Train size: {len(train_df)}, Test size: {len(test_df)}\")\n"
   ]
  },
  {
   "cell_type": "code",
   "execution_count": 55,
   "id": "4f8ccd37-01c1-4ba6-bbd1-d30e6dc51a3e",
   "metadata": {},
   "outputs": [
    {
     "name": "stdout",
     "output_type": "stream",
     "text": [
      "CWD: /home/atulpandey/Projects/Book_Recommendation_System/notebook\n",
      "MODEL_PATH: /home/atulpandey/Projects/Book_Recommendation_System/model/stamp.pt\n",
      "Exists: True\n"
     ]
    }
   ],
   "source": [
    "import os\n",
    "print(\"CWD:\", os.getcwd())\n",
    "print(\"MODEL_PATH:\", os.path.abspath(MODEL_PATH))\n",
    "print(\"Exists:\", os.path.exists(MODEL_PATH))\n"
   ]
  },
  {
   "cell_type": "code",
   "execution_count": 56,
   "id": "9fec8f64",
   "metadata": {
    "vscode": {
     "languageId": "plaintext"
    }
   },
   "outputs": [
    {
     "name": "stdout",
     "output_type": "stream",
     "text": [
      "Loading model from: /home/atulpandey/Projects/Book_Recommendation_System/model/stamp_model.py\n"
     ]
    }
   ],
   "source": [
    "MODEL_PATH = os.path.abspath(\"../model/stamp_model.py\")  # make sure this path is correct\n",
    "print(\"Loading model from:\", MODEL_PATH)\n",
    "\n",
    "if not os.path.exists(MODEL_PATH):\n",
    "    raise FileNotFoundError(f\"Model file not found: {MODEL_PATH}\")\n",
    "\n",
    "spec = importlib.util.spec_from_file_location(\"stamp_model\", MODEL_PATH)\n",
    "module = importlib.util.module_from_spec(spec)\n",
    "spec.loader.exec_module(module)\n",
    "\n",
    "STAMP = getattr(module, \"STAMP\")\n"
   ]
  },
  {
   "cell_type": "code",
   "execution_count": 57,
   "id": "8c7b54c8-7ed9-4188-b11e-9cd2909f5fde",
   "metadata": {},
   "outputs": [
    {
     "name": "stdout",
     "output_type": "stream",
     "text": [
      "Shape mismatch for 'item_embedding.weight': checkpoint torch.Size([113992, 100]) vs model torch.Size([119943, 100]) — skipped\n",
      "Loaded partial weights from /home/atulpandey/Projects/Book_Recommendation_System/model/stamp.pt (skipped 1 mismatched layers)\n",
      "Model ready for evaluation ✅\n"
     ]
    }
   ],
   "source": [
    "MODEL_WEIGHTS_PATH = os.path.abspath(\"../model/stamp.pt\")  \n",
    "num_items = len(all_items)\n",
    "num_users = ratings['user_id'].nunique()\n",
    "\n",
    "model = STAMP(num_items=num_items)  \n",
    "\n",
    "if os.path.exists(MODEL_WEIGHTS_PATH):\n",
    "    checkpoint = torch.load(MODEL_WEIGHTS_PATH, map_location=device)\n",
    "\n",
    "    state_dict = checkpoint['model_state'] if 'model_state' in checkpoint else checkpoint\n",
    "\n",
    "    model_dict = model.state_dict()\n",
    "    pretrained_dict = {}\n",
    "\n",
    "    for k, v in state_dict.items():\n",
    "        if k in model_dict:\n",
    "            if model_dict[k].shape == v.shape:\n",
    "                pretrained_dict[k] = v\n",
    "            else:\n",
    "                print(f\"Shape mismatch for '{k}': checkpoint {v.shape} vs model {model_dict[k].shape} — skipped\")\n",
    "        else:\n",
    "            print(f\"Unexpected key in checkpoint: {k}\")\n",
    "\n",
    "    # Update model dict and load it\n",
    "    model_dict.update(pretrained_dict)\n",
    "    model.load_state_dict(model_dict)\n",
    "\n",
    "    print(f\"Loaded partial weights from {MODEL_WEIGHTS_PATH} (skipped {len(state_dict) - len(pretrained_dict)} mismatched layers)\")\n",
    "\n",
    "else:\n",
    "    print(\"Model weights file not found, using untrained model.\")\n",
    "\n",
    "model.to(device)\n",
    "model.eval()\n",
    "print(\"Model ready for evaluation ✅\")\n"
   ]
  },
  {
   "cell_type": "code",
   "execution_count": 58,
   "id": "1d080846",
   "metadata": {
    "vscode": {
     "languageId": "plaintext"
    }
   },
   "outputs": [],
   "source": [
    "all_items = ratings['book_isbn'].unique()\n",
    "isbn_to_idx = {isbn: idx for idx, isbn in enumerate(all_items)}\n",
    "all_items_encoded = [isbn_to_idx[i] for i in all_items]\n",
    "all_items_tensor = torch.tensor(all_items_encoded, dtype=torch.long).to(device)"
   ]
  },
  {
   "cell_type": "code",
   "execution_count": 59,
   "id": "1d6385e0",
   "metadata": {
    "vscode": {
     "languageId": "plaintext"
    }
   },
   "outputs": [],
   "source": [
    "def precision_at_k(model, test_df, user_pos_items, isbn_to_idx, k_values=[5, 20]):\n",
    "    model.eval()\n",
    "    results = {k: [] for k in k_values}\n",
    "    all_items = [isbn_to_idx[i] for i in test_df['book_isbn'].unique() if i in isbn_to_idx]\n",
    "    all_items_tensor = torch.tensor(all_items, dtype=torch.long).unsqueeze(0).to(device)\n",
    "\n",
    "    for user_id, group in test_df.groupby(\"user_id\"):\n",
    "        session_items = [isbn_to_idx[i] for i in user_pos_items.get(user_id, []) if i in isbn_to_idx]\n",
    "        if not session_items:\n",
    "            continue\n",
    "        session_tensor = torch.tensor([session_items], dtype=torch.long).to(device)\n",
    "        with torch.no_grad():\n",
    "            preds = model(session_tensor, all_items_tensor).squeeze().cpu().numpy()\n",
    "        top_indices = np.argsort(preds)[::-1]\n",
    "        top_items = [all_items[i] for i in top_indices]\n",
    "        actual_items = set(isbn_to_idx[i] for i in group['book_isbn'].tolist() if i in isbn_to_idx)\n",
    "        for k in k_values:\n",
    "            recommended = top_items[:k]\n",
    "            hits = len(set(recommended) & actual_items)\n",
    "            results[k].append(hits / k)\n",
    "    results = {k: np.mean(v) if v else 0.0 for k, v in results.items()}\n",
    "    return results\n"
   ]
  },
  {
   "cell_type": "code",
   "execution_count": null,
   "id": "eab33705",
   "metadata": {
    "vscode": {
     "languageId": "plaintext"
    }
   },
   "outputs": [],
   "source": [
    "results = precision_at_k(model, test_df, user_pos_items, isbn_to_idx, k_values=TOP_K)\n",
    "for k, val in results.items():\n",
    "    print(f\"Precision@{k}: {val:.4f}\")\n"
   ]
  },
  {
   "cell_type": "code",
   "execution_count": null,
   "id": "56357c89-8ad3-47a1-8e18-1aed7c883a37",
   "metadata": {},
   "outputs": [],
   "source": []
  }
 ],
 "metadata": {
  "kernelspec": {
   "display_name": "Python (venv)",
   "language": "python",
   "name": "venv"
  },
  "language_info": {
   "codemirror_mode": {
    "name": "ipython",
    "version": 3
   },
   "file_extension": ".py",
   "mimetype": "text/x-python",
   "name": "python",
   "nbconvert_exporter": "python",
   "pygments_lexer": "ipython3",
   "version": "3.13.7"
  }
 },
 "nbformat": 4,
 "nbformat_minor": 5
}
