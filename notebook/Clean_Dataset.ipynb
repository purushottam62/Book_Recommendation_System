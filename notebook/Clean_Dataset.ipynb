{
 "cells": [
  {
   "cell_type": "code",
   "execution_count": 22,
   "id": "a4cc707d-84bd-4423-aca8-312c2efdc520",
   "metadata": {},
   "outputs": [],
   "source": [
    "import pandas as pd\n",
    "import os\n"
   ]
  },
  {
   "cell_type": "code",
   "execution_count": 4,
   "id": "844e0212",
   "metadata": {},
   "outputs": [
    {
     "name": "stderr",
     "output_type": "stream",
     "text": [
      "C:\\Users\\atulp\\AppData\\Local\\Temp\\ipykernel_636\\1194015740.py:2: DtypeWarning: Columns (3) have mixed types. Specify dtype option on import or set low_memory=False.\n",
      "  books = pd.read_csv(\"./../data/Books.csv\")\n"
     ]
    }
   ],
   "source": [
    "users = pd.read_csv(\"./../data/Users.csv\")\n",
    "books = pd.read_csv(\"./../data/Books.csv\")\n",
    "ratings = pd.read_csv(\"./../data/Ratings.csv\")\n"
   ]
  },
  {
   "cell_type": "code",
   "execution_count": 12,
   "id": "324bfb98-1b20-47e7-ae82-b3a4ef7a3820",
   "metadata": {},
   "outputs": [],
   "source": [
    "users.rename(columns={\n",
    "    'User-ID': 'user_id',\n",
    "    'Location': 'location',\n",
    "    'Age': 'age'\n",
    "}, inplace=True)\n",
    "\n",
    "books.rename(columns={\n",
    "    'ISBN': 'book_isbn',\n",
    "    'Book-Title': 'book_title',\n",
    "    'Book-Author': 'book_author',\n",
    "    'Year-Of-Publication': 'year_of_publication',\n",
    "    'Publisher': 'publisher',\n",
    "    'Image-URL-S': 'image_url_s',\n",
    "    'Image-URL-M': 'image_url_m',\n",
    "    'Image-URL-L': 'image_url_l'\n",
    "}, inplace=True)\n",
    "\n",
    "ratings.rename(columns={\n",
    "    'User-ID': 'user_id',\n",
    "    'ISBN': 'book_isbn',\n",
    "    'Book-Rating': 'book_rating'\n",
    "}, inplace=True)\n"
   ]
  },
  {
   "cell_type": "code",
   "execution_count": 13,
   "id": "c43cf6ca-a0eb-43b1-9d49-1d590796f962",
   "metadata": {},
   "outputs": [
    {
     "data": {
      "text/plain": [
       "Index(['book_isbn', 'book_title', 'book_author', 'year_of_publication',\n",
       "       'publisher', 'image_url_s', 'image_url_m', 'image_url_l'],\n",
       "      dtype='object')"
      ]
     },
     "execution_count": 13,
     "metadata": {},
     "output_type": "execute_result"
    }
   ],
   "source": [
    "books.columns\n"
   ]
  },
  {
   "cell_type": "code",
   "execution_count": 14,
   "id": "93b651e6-4721-4a3a-a71a-4158100754e9",
   "metadata": {},
   "outputs": [
    {
     "data": {
      "text/plain": [
       "Index(['user_id', 'location', 'age'], dtype='object')"
      ]
     },
     "execution_count": 14,
     "metadata": {},
     "output_type": "execute_result"
    }
   ],
   "source": [
    "users.columns"
   ]
  },
  {
   "cell_type": "code",
   "execution_count": 15,
   "id": "2eae9918-74f6-43d6-be5c-1ab454724ce2",
   "metadata": {},
   "outputs": [
    {
     "data": {
      "text/plain": [
       "Index(['user_id', 'book_isbn', 'book_rating'], dtype='object')"
      ]
     },
     "execution_count": 15,
     "metadata": {},
     "output_type": "execute_result"
    }
   ],
   "source": [
    "ratings.columns"
   ]
  },
  {
   "cell_type": "code",
   "execution_count": 16,
   "id": "f4015834-0f17-45b8-8bfe-c6ab5db06957",
   "metadata": {},
   "outputs": [],
   "source": [
    "users = users.dropna()\n",
    "books = books.dropna()\n",
    "ratings = ratings.dropna()"
   ]
  },
  {
   "cell_type": "code",
   "execution_count": 17,
   "id": "cc15c4f7-7a42-492d-b329-0ddb36b2cbe8",
   "metadata": {},
   "outputs": [],
   "source": [
    "valid_user_ids = set(users[\"user_id\"])\n",
    "valid_book_isbns = set(books[\"book_isbn\"])"
   ]
  },
  {
   "cell_type": "code",
   "execution_count": 19,
   "id": "4dec287b-e0c9-4205-9d07-da74b7edd0cd",
   "metadata": {},
   "outputs": [],
   "source": [
    "ratings = ratings[\n",
    "    ratings[\"user_id\"].isin(valid_user_ids) &\n",
    "    ratings[\"book_isbn\"].isin(valid_book_isbns)\n",
    "]"
   ]
  },
  {
   "cell_type": "code",
   "execution_count": 20,
   "id": "f592b289-ebc2-475e-8f89-a4e03f272a66",
   "metadata": {},
   "outputs": [],
   "source": [
    "users.reset_index(drop=True, inplace=True)\n",
    "books.reset_index(drop=True, inplace=True)\n",
    "ratings.reset_index(drop=True, inplace=True)"
   ]
  },
  {
   "cell_type": "code",
   "execution_count": 24,
   "id": "6fab0115-430e-4a89-ad39-7e9fd0e0be80",
   "metadata": {},
   "outputs": [],
   "source": [
    "os.makedirs(\"./../clean_data\", exist_ok=True)\n",
    "users.to_csv(\"./../clean_data/users.csv\", index=False)\n",
    "books.to_csv(\"./../clean_data/books.csv\", index=False)\n",
    "ratings.to_csv(\"./../clean_data/ratings.csv\", index=False)"
   ]
  },
  {
   "cell_type": "code",
   "execution_count": null,
   "id": "1ab2ea24-fc71-48d7-9478-f122d3f487e8",
   "metadata": {},
   "outputs": [],
   "source": []
  },
  {
   "cell_type": "code",
   "execution_count": null,
   "id": "9539bcb0-42a6-416e-8671-acbf30885906",
   "metadata": {},
   "outputs": [],
   "source": []
  }
 ],
 "metadata": {
  "kernelspec": {
   "display_name": "Python 3 (ipykernel)",
   "language": "python",
   "name": "python3"
  },
  "language_info": {
   "codemirror_mode": {
    "name": "ipython",
    "version": 3
   },
   "file_extension": ".py",
   "mimetype": "text/x-python",
   "name": "python",
   "nbconvert_exporter": "python",
   "pygments_lexer": "ipython3",
   "version": "3.13.7"
  }
 },
 "nbformat": 4,
 "nbformat_minor": 5
}
